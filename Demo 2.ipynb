{
 "cells": [
  {
   "cell_type": "markdown",
   "metadata": {},
   "source": [
    "# Quantum gradients"
   ]
  },
  {
   "cell_type": "markdown",
   "metadata": {},
   "source": [
    "What values of $\\theta$, $\\phi$, and $\\omega$ *minimize* the value of the measurement?"
   ]
  },
  {
   "cell_type": "markdown",
   "metadata": {},
   "source": [
    "<img src=\"fig/circuit_3.svg\" width=400>"
   ]
  },
  {
   "cell_type": "markdown",
   "metadata": {},
   "source": [
    "The output value is a function of the input values,\n",
    "\n",
    "\\begin{equation}\n",
    "\\langle Z \\rangle = f(\\theta, \\phi, \\omega),\n",
    "\\end{equation}\n",
    "\n",
    "so we can take its gradient with respect to each of the input parameters."
   ]
  },
  {
   "cell_type": "code",
   "execution_count": null,
   "metadata": {},
   "outputs": [],
   "source": [
    "import pennylane as qml\n",
    "from pennylane import numpy as np\n",
    "\n",
    "dev = qml.device('default.qubit', wires=3)\n",
    "\n",
    "def circuit(theta, phi, omega):\n",
    "    qml.RX(theta, wires=0)\n",
    "    qml.RY(phi, wires=1)\n",
    "    qml.RY(omega, wires=2)\n",
    "    \n",
    "    qml.CNOT(wires=[0, 1])\n",
    "    qml.CNOT(wires=[1, 2])\n",
    "    qml.CNOT(wires=[2, 0])\n",
    "    \n",
    "    return qml.expval(qml.PauliZ(wires=2))\n",
    "\n",
    "qnode = qml.QNode(circuit, dev)"
   ]
  },
  {
   "cell_type": "code",
   "execution_count": null,
   "metadata": {},
   "outputs": [],
   "source": [
    "theta = np.array(0.1)\n",
    "phi = np.array(0.2)\n",
    "omega = np.array(0.3)\n",
    "\n",
    "qml.grad(qnode)(theta, phi, omega)"
   ]
  },
  {
   "cell_type": "markdown",
   "metadata": {},
   "source": [
    "## Training a quantum circuit"
   ]
  },
  {
   "cell_type": "markdown",
   "metadata": {},
   "source": [
    "We can learn the optimal values using gradient descent. We first set up a cost function:"
   ]
  },
  {
   "cell_type": "code",
   "execution_count": null,
   "metadata": {},
   "outputs": [],
   "source": [
    "def cost(theta, phi, omega):\n",
    "    return qnode(theta, phi, omega)"
   ]
  },
  {
   "cell_type": "markdown",
   "metadata": {},
   "source": [
    "Next we set up an optimizer; PennyLane has a number of [built-in optimizers](https://pennylane.readthedocs.io/en/stable/introduction/optimizers.html)."
   ]
  },
  {
   "cell_type": "code",
   "execution_count": null,
   "metadata": {},
   "outputs": [],
   "source": [
    "opt = qml.GradientDescentOptimizer(stepsize=0.1)"
   ]
  },
  {
   "cell_type": "markdown",
   "metadata": {},
   "source": [
    "Now, we iterate..."
   ]
  },
  {
   "cell_type": "code",
   "execution_count": null,
   "metadata": {},
   "outputs": [],
   "source": [
    "n_iter = 100"
   ]
  },
  {
   "cell_type": "code",
   "execution_count": null,
   "metadata": {},
   "outputs": [],
   "source": [
    "for _ in range(n_iter):\n",
    "    theta, phi, omega = opt.step(cost, theta, phi, omega)"
   ]
  },
  {
   "cell_type": "code",
   "execution_count": null,
   "metadata": {},
   "outputs": [],
   "source": [
    "cost(theta, phi, omega)"
   ]
  },
  {
   "cell_type": "markdown",
   "metadata": {},
   "source": [
    "Let's take a closer look at what happened"
   ]
  },
  {
   "cell_type": "code",
   "execution_count": null,
   "metadata": {},
   "outputs": [],
   "source": [
    "import matplotlib.pyplot as plt\n",
    "\n",
    "costs = []\n",
    "\n",
    "opt = qml.GradientDescentOptimizer(stepsize=0.1)\n",
    "\n",
    "theta = np.array(0.1)\n",
    "phi = np.array(0.2)\n",
    "omega = np.array(0.3)\n",
    "\n",
    "for _ in range(n_iter):\n",
    "    (theta, phi, omega), cost_val = opt.step_and_cost(cost, theta, phi, omega)\n",
    "    costs.append(cost_val)"
   ]
  },
  {
   "cell_type": "code",
   "execution_count": null,
   "metadata": {},
   "outputs": [],
   "source": [
    "plt.plot(costs)"
   ]
  },
  {
   "cell_type": "markdown",
   "metadata": {},
   "source": [
    "## Parameter-shift rules"
   ]
  },
  {
   "cell_type": "markdown",
   "metadata": {},
   "source": [
    "Hardware devices cannot compute gradients analytically; they rely on methods such as parameter-shift rules:\n",
    "\n",
    "\\begin{equation}\n",
    "\\frac{\\partial f}{\\partial \\theta} = c [ f(\\theta + s) - f(\\theta - s) ]\n",
    "\\end{equation}"
   ]
  },
  {
   "cell_type": "code",
   "execution_count": null,
   "metadata": {},
   "outputs": [],
   "source": [
    "theta = np.array(0.1)\n",
    "phi = np.array(0.2)\n",
    "omega = np.array(0.3)\n",
    "\n",
    "qml.grad(qnode)(theta, phi, omega)"
   ]
  },
  {
   "cell_type": "markdown",
   "metadata": {},
   "source": [
    "Let's try applying parameter shift rules instead:"
   ]
  },
  {
   "cell_type": "code",
   "execution_count": null,
   "metadata": {},
   "outputs": [],
   "source": [
    "c = 1 / np.sqrt(2)\n",
    "s = np.pi / 4\n",
    "\n",
    "c * (qnode(theta + s, phi, omega) - qnode(theta - s, phi, omega))"
   ]
  },
  {
   "cell_type": "markdown",
   "metadata": {},
   "source": [
    "It is straightforward in PennyLane to select the gradient method when constructing a QNode:"
   ]
  },
  {
   "cell_type": "code",
   "execution_count": null,
   "metadata": {},
   "outputs": [],
   "source": [
    "qnode = qml.QNode(circuit, dev, diff_method='parameter-shift')\n",
    "\n",
    "qml.grad(qnode)(theta, phi, omega)"
   ]
  },
  {
   "cell_type": "markdown",
   "metadata": {},
   "source": [
    "## Quantum-aware optimizers"
   ]
  },
  {
   "cell_type": "markdown",
   "metadata": {},
   "source": [
    "Gradient descent is a general-purpose optimization technique. Other methods exist that leverage the fact that we are optimizing over quantum circuits, are gradient-free, or make use of information from the parameter-shift rules. \n",
    "\n",
    "Examples:\n",
    " \n",
    " - Quantum natural gradient [(``QNGOptimizer``)](https://pennylane.readthedocs.io/en/stable/code/api/pennylane.QNGOptimizer.html)\n",
    " - [``RotosolveOptimizer``](https://pennylane.readthedocs.io/en/stable/code/api/pennylane.RotosolveOptimizer.html) / [``RotoselectOptimizer``](https://pennylane.readthedocs.io/en/stable/code/api/pennylane.RotoselectOptimizer.html)\n",
    " - [``ShotAdaptiveOptimizer``](https://pennylane.readthedocs.io/en/stable/code/api/pennylane.ShotAdaptiveOptimizer.html)\n",
    " "
   ]
  },
  {
   "cell_type": "markdown",
   "metadata": {},
   "source": [
    "Let's explore the `ShotAdaptiveOptimizer` (a.k.a. Rosalin optimizer). This is useful in a hardware setting where it is beneficial to take as a few shots and measurements as possible. A running average of the gradient and the *variance* of the gradient are stored, and this information is used to create a \"shot budget\" that distributes shots over different parts of the cost function."
   ]
  },
  {
   "cell_type": "markdown",
   "metadata": {},
   "source": [
    "Suppose we want to minimize a cost function involving a linear combination of expectation values:\n",
    "\n",
    "\\begin{equation}\n",
    "C(\\theta, \\phi, \\omega) = 2 \\langle X_1 \\rangle + 4 \\langle Z_1 \\rangle - \\langle X_0 X_2 \\rangle\n",
    "\\end{equation}\n"
   ]
  },
  {
   "cell_type": "markdown",
   "metadata": {},
   "source": [
    "(The minimum cost would be -6, corresponding to the first two expectation values being -1, and the third having a value of 1.)"
   ]
  },
  {
   "cell_type": "code",
   "execution_count": null,
   "metadata": {
    "tags": []
   },
   "outputs": [],
   "source": [
    "coeffs = [2, 4, -1]\n",
    "obs = [\n",
    "    qml.PauliX(1),\n",
    "    qml.PauliZ(1),\n",
    "    qml.PauliX(0) @ qml.PauliX(2)\n",
    "]\n",
    "\n",
    "H = qml.Hamiltonian(coeffs, obs)"
   ]
  },
  {
   "cell_type": "code",
   "execution_count": null,
   "metadata": {},
   "outputs": [],
   "source": [
    "def circuit(params, wires):\n",
    "    qml.RX(params[0], wires=0)\n",
    "    qml.RY(params[1], wires=1)\n",
    "    qml.RY(params[2], wires=2)\n",
    "    \n",
    "    qml.CNOT(wires=[0, 1])\n",
    "    qml.CNOT(wires=[1, 2])\n",
    "    qml.CNOT(wires=[2, 0])\n",
    "    \n",
    "dev = qml.device('default.qubit', wires=3, shots=1000)    \n",
    "    \n",
    "cost = qml.ExpvalCost(circuit, H, dev)"
   ]
  },
  {
   "cell_type": "code",
   "execution_count": null,
   "metadata": {},
   "outputs": [],
   "source": [
    "cost([theta, phi, omega])"
   ]
  },
  {
   "cell_type": "markdown",
   "metadata": {},
   "source": [
    "The shot adaptive optimizer will allocated shots in a way proportional to the size of the coefficients in the cost function."
   ]
  },
  {
   "cell_type": "code",
   "execution_count": null,
   "metadata": {},
   "outputs": [],
   "source": [
    "params = np.array([theta, phi, omega]).copy()\n",
    "\n",
    "opt = qml.ShotAdaptiveOptimizer(min_shots=10)"
   ]
  },
  {
   "cell_type": "code",
   "execution_count": null,
   "metadata": {},
   "outputs": [],
   "source": [
    "for i in range(50):\n",
    "    params = opt.step(cost, params)\n",
    "    print(f\"Step {i}: cost = {cost(params):.2f},\\t shots_used = {opt.shots_used},\\t total_shots_used = {opt.total_shots_used}\")"
   ]
  }
 ],
 "metadata": {
  "kernelspec": {
   "display_name": "Python 3",
   "language": "python",
   "name": "python3"
  },
  "language_info": {
   "codemirror_mode": {
    "name": "ipython",
    "version": 3
   },
   "file_extension": ".py",
   "mimetype": "text/x-python",
   "name": "python",
   "nbconvert_exporter": "python",
   "pygments_lexer": "ipython3",
   "version": "3.7.7"
  }
 },
 "nbformat": 4,
 "nbformat_minor": 5
}

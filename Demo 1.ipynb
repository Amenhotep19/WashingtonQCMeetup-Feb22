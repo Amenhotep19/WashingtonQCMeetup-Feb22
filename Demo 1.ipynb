{
 "cells": [
  {
   "cell_type": "markdown",
   "id": "f9ba9ab2",
   "metadata": {},
   "source": [
    "# Simple circuits with PennyLane"
   ]
  },
  {
   "cell_type": "markdown",
   "id": "cd9a37e0-fcfb-407f-a652-10dad4a2f696",
   "metadata": {},
   "source": [
    "<div class=\"alert alert-warning\">\n",
    "    Got feedback? Share your thoughts by filling out our <a href=\"https://forms.gle/z6ochGoC6grMh65E9\">survey</a>.\n",
    "</div>"
   ]
  },
  {
   "cell_type": "markdown",
   "id": "8054a1c6",
   "metadata": {},
   "source": [
    "Hybrid algorithms consist of a mixture of classical and quantum computations."
   ]
  },
  {
   "cell_type": "markdown",
   "id": "67c05363",
   "metadata": {},
   "source": [
    "<img src=\"fig/hybrid_graph.png\" width=700>"
   ]
  },
  {
   "cell_type": "markdown",
   "id": "23fe5e03",
   "metadata": {},
   "source": [
    "In PennyLane, units of quantum computation are represented by quantum nodes, or QNodes. A QNode consists of two parts:\n",
    "\n",
    " - a quantum function\n",
    " - a device"
   ]
  },
  {
   "cell_type": "markdown",
   "id": "97517dfb",
   "metadata": {},
   "source": [
    "<img src=\"fig/qnode.svg\" width=700>"
   ]
  },
  {
   "cell_type": "markdown",
   "id": "93438a4b",
   "metadata": {},
   "source": [
    "Suppose we want to run the following quantum circuit:\n",
    "\n",
    "<img src=\"fig/circuit_1.svg\" width=500>"
   ]
  },
  {
   "cell_type": "markdown",
   "id": "6cd84ae0",
   "metadata": {},
   "source": [
    "## Devices"
   ]
  },
  {
   "cell_type": "markdown",
   "id": "47dedf95",
   "metadata": {},
   "source": [
    "A device specifies where a quantum computation runs; this could be a simulator, or an actual hardware device. Here, we will use a simulator. "
   ]
  },
  {
   "cell_type": "code",
   "execution_count": null,
   "id": "0b653afb",
   "metadata": {},
   "outputs": [],
   "source": [
    "import pennylane as qml\n",
    "from pennylane import numpy as np"
   ]
  },
  {
   "cell_type": "code",
   "execution_count": null,
   "id": "ec5d7f92",
   "metadata": {},
   "outputs": [],
   "source": [
    "dev = qml.device('default.qubit', wires=3)"
   ]
  },
  {
   "cell_type": "markdown",
   "id": "022329ec",
   "metadata": {},
   "source": [
    "## Quantum functions"
   ]
  },
  {
   "cell_type": "markdown",
   "id": "cecef602",
   "metadata": {},
   "source": [
    "A quantum function is a normal Python function that performs one or more quantum operations, and returns a measurement."
   ]
  },
  {
   "cell_type": "markdown",
   "id": "4900f688",
   "metadata": {},
   "source": [
    "(A complete list of operations can be found in the [PennyLane documentation](https://pennylane.readthedocs.io/en/stable/introduction/operations.html))"
   ]
  },
  {
   "cell_type": "markdown",
   "id": "02c0e9de",
   "metadata": {},
   "source": [
    "<img src=\"fig/circuit_1.svg\" width=300>"
   ]
  },
  {
   "cell_type": "code",
   "execution_count": null,
   "id": "87764691",
   "metadata": {},
   "outputs": [],
   "source": [
    "def circuit(theta, phi, omega):\n",
    "    qml.RX(theta, wires=0)\n",
    "    qml.RY(phi, wires=1)\n",
    "    qml.RZ(omega, wires=2)\n",
    "    \n",
    "    qml.CNOT(wires=[0, 1])\n",
    "    qml.CNOT(wires=[1, 2])\n",
    "    qml.CNOT(wires=[2, 0])\n",
    "    \n",
    "    return qml.expval(qml.PauliZ(wires=0))"
   ]
  },
  {
   "cell_type": "markdown",
   "id": "e28e00c2",
   "metadata": {},
   "source": [
    "## QNodes"
   ]
  },
  {
   "cell_type": "markdown",
   "id": "0ce87aba",
   "metadata": {},
   "source": [
    "We bind together the device and the quantum function to create a quantum node:"
   ]
  },
  {
   "cell_type": "code",
   "execution_count": null,
   "id": "8b7745ec",
   "metadata": {},
   "outputs": [],
   "source": [
    "our_qnode = qml.QNode(circuit, dev)"
   ]
  },
  {
   "cell_type": "markdown",
   "id": "9a67332c",
   "metadata": {},
   "source": [
    "Now we can execute the QNode by calling it like a function; the quantum function will be executed on the device, and we will receive the outcome of the measurement back."
   ]
  },
  {
   "cell_type": "code",
   "execution_count": null,
   "id": "5161e9af",
   "metadata": {},
   "outputs": [],
   "source": [
    "theta = np.array(0.1)\n",
    "phi = np.array(0.2)\n",
    "omega = np.array(0.3)"
   ]
  },
  {
   "cell_type": "code",
   "execution_count": null,
   "id": "3dedceb9",
   "metadata": {},
   "outputs": [],
   "source": [
    "our_qnode(theta, phi, omega)"
   ]
  },
  {
   "cell_type": "markdown",
   "id": "561701c1",
   "metadata": {},
   "source": [
    "We can also draw our QNode using ``qml.draw``:"
   ]
  },
  {
   "cell_type": "code",
   "execution_count": null,
   "id": "507767d4",
   "metadata": {},
   "outputs": [],
   "source": [
    "print(qml.draw(our_qnode)(theta, phi, omega))"
   ]
  },
  {
   "cell_type": "markdown",
   "id": "e148e8b8",
   "metadata": {},
   "source": [
    "## The `qnode` decorator"
   ]
  },
  {
   "cell_type": "markdown",
   "id": "de65d772",
   "metadata": {},
   "source": [
    "There is also a \"shortcut\" for constructing QNodes using decorators."
   ]
  },
  {
   "cell_type": "markdown",
   "id": "703fe901",
   "metadata": {},
   "source": [
    "<img src=\"fig/circuit_2.svg\" width=500>"
   ]
  },
  {
   "cell_type": "code",
   "execution_count": null,
   "id": "2d2e204a",
   "metadata": {},
   "outputs": [],
   "source": [
    "@qml.qnode(dev)\n",
    "def circuit_2(theta, phi):\n",
    "    qml.CNOT(wires=[0, 1])\n",
    "    qml.RX(theta, wires=2)\n",
    "    qml.Hadamard(wires=0)\n",
    "    qml.CNOT(wires=[2, 0])\n",
    "    qml.RY(phi, wires=1)\n",
    "    \n",
    "    return qml.expval(qml.PauliY(wires=0)), qml.expval(qml.PauliZ(wires=1))"
   ]
  },
  {
   "cell_type": "code",
   "execution_count": null,
   "id": "2610066f",
   "metadata": {},
   "outputs": [],
   "source": [
    "circuit_2(theta, phi)"
   ]
  },
  {
   "cell_type": "code",
   "execution_count": null,
   "id": "52dab1aa",
   "metadata": {},
   "outputs": [],
   "source": [
    "print(qml.draw(circuit_2)(theta, phi))"
   ]
  },
  {
   "cell_type": "markdown",
   "id": "8b5da811",
   "metadata": {},
   "source": [
    "## Plugins and devices"
   ]
  },
  {
   "cell_type": "markdown",
   "id": "3366e61b",
   "metadata": {},
   "source": [
    "PennyLane offers [plugins](https://pennylane.ai/plugins.html) to a number of different hardware providers. You can swap out simulators for other devices, including real hardware, very easily!"
   ]
  },
  {
   "cell_type": "code",
   "execution_count": null,
   "id": "163fa3dc",
   "metadata": {},
   "outputs": [],
   "source": [
    "# If you have a token for IBM Q Experience, you can use their devices like so,\n",
    "# where backend gets replaced with the backend of your choice.\n",
    "# dev = qml.device('qiskit.ibmq', wires=3, backend='ibmq_qasm_simulator')\n",
    "\n",
    "dev = qml.device('qiskit.aer', wires=3, shots=1000)"
   ]
  },
  {
   "cell_type": "code",
   "execution_count": null,
   "id": "ccd35e7f",
   "metadata": {},
   "outputs": [],
   "source": [
    "circuit_with_shots = qml.QNode(circuit, dev)"
   ]
  },
  {
   "cell_type": "code",
   "execution_count": null,
   "id": "1cb4c027",
   "metadata": {},
   "outputs": [],
   "source": [
    "circuit_with_shots(theta, phi, omega)"
   ]
  },
  {
   "cell_type": "markdown",
   "id": "02060b42",
   "metadata": {},
   "source": [
    "Expectation values aren't the only thing you can measure - you can also compute output probabilities for each of the possible outcomes:"
   ]
  },
  {
   "cell_type": "code",
   "execution_count": null,
   "id": "c1218910",
   "metadata": {},
   "outputs": [],
   "source": [
    "def circuit(theta, phi, omega):\n",
    "    qml.RX(theta, wires=0)\n",
    "    qml.RY(phi, wires=1)\n",
    "    qml.RZ(omega, wires=2)\n",
    "    \n",
    "    qml.CNOT(wires=[0, 1])\n",
    "    qml.CNOT(wires=[1, 2])\n",
    "    qml.CNOT(wires=[2, 0])\n",
    "    \n",
    "    return qml.probs(wires=0)\n",
    "\n",
    "circuit_with_shots = qml.QNode(circuit, dev)\n",
    "circuit_with_shots(theta, phi, omega)"
   ]
  }
 ],
 "metadata": {
  "kernelspec": {
   "display_name": "PennyLane",
   "language": "python",
   "name": "pennylane"
  },
  "language_info": {
   "codemirror_mode": {
    "name": "ipython",
    "version": 3
   },
   "file_extension": ".py",
   "mimetype": "text/x-python",
   "name": "python",
   "nbconvert_exporter": "python",
   "pygments_lexer": "ipython3",
   "version": "3.8.12"
  }
 },
 "nbformat": 4,
 "nbformat_minor": 5
}

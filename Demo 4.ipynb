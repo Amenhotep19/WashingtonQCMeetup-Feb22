{
 "cells": [
  {
   "cell_type": "markdown",
   "metadata": {},
   "source": [
    "# Variational quantum eigensolver (VQE)"
   ]
  },
  {
   "cell_type": "markdown",
   "metadata": {},
   "source": [
    "The VQE is a variational algorithm that can be used to find the ground state energy of a quantum system, such as a molecule.\n",
    "\n",
    "There are a few things we need to start:\n",
    "\n",
    "1. Choose an initial state  $|\\psi\\rangle$ for the system described by a particular Hamiltonian $H$\n",
    "2. Choose a suitable ansatz circuit $U(\\alpha)$\n",
    "3. Choose a starting set of parameters $\\alpha$\n",
    "\n",
    "To run the algorithm, what we do is:\n",
    "\n",
    "1. Apply $U(\\alpha)$ and measure the output state\n",
    "2. Use measurement results to compute numerical value of $\\langle 0\\vert U^\\dagger(\\alpha)HU(\\alpha)\\vert 0\\rangle$ (the energy)\n",
    "3. Use some optimization routine to choose a new $\\alpha$ that should bring us to a state closer to the ground state.\n",
    "4. Repeat the above until the optimizer converges to a minimum value, or the number of iterations has exceeded a specified maximum.\n"
   ]
  },
  {
   "cell_type": "markdown",
   "metadata": {},
   "source": [
    "## Computing the ground state energy of  the hydrogen molecule"
   ]
  },
  {
   "cell_type": "markdown",
   "metadata": {},
   "source": [
    "### Constructing a Hamiltonian"
   ]
  },
  {
   "cell_type": "markdown",
   "metadata": {},
   "source": [
    "PennyLane's [`qchem` module](https://pennylane.readthedocs.io/en/stable/introduction/chemistry.html) contains sophisticated functionality to construct Hamiltonians. You can create them with the [`molecular_hamiltonian()`](https://pennylane.readthedocs.io/en/stable/introduction/chemistry.html#building-the-electronic-hamiltonian) function. The minimum information is a set of symbols (labelling the molecular components), and their coordinates.\n",
    "\n",
    "(Such symbols and coordinates can also imported from common quantum chemistry formats using the [`read_structure()`](https://pennylane.readthedocs.io/en/stable/introduction/chemistry.html#importing-molecular-structure-data) function)."
   ]
  },
  {
   "cell_type": "code",
   "execution_count": null,
   "metadata": {},
   "outputs": [],
   "source": [
    "import pennylane as qml\n",
    "from pennylane import qchem\n",
    "from pennylane import numpy as np\n",
    "\n",
    "symbols = [\"H\", \"H\"]\n",
    "coordinates = np.array([0.0, 0.0, 0.0, 0.0, 0.0, 1.323])\n",
    "\n",
    "H, qubits = qchem.molecular_hamiltonian(symbols, coordinates) # Lots of defaults; maybe mention\n",
    "print(f\"Number of qubits = {qubits}\\n\")\n",
    "print(f\"H = {H}\")"
   ]
  },
  {
   "cell_type": "code",
   "execution_count": null,
   "metadata": {},
   "outputs": [],
   "source": [
    "len(H.terms[0])"
   ]
  },
  {
   "cell_type": "code",
   "execution_count": null,
   "metadata": {},
   "outputs": [],
   "source": [
    "dev = qml.device('default.qubit', wires=4)"
   ]
  },
  {
   "cell_type": "markdown",
   "metadata": {},
   "source": [
    "### Choosing an initial state"
   ]
  },
  {
   "cell_type": "markdown",
   "metadata": {},
   "source": [
    "The hydrogen molecule has 2 electrons, in four orbitals. A good choice for the initial state is called the *Hartree-Fock* state. The Hartree-Fock state can be constructed automatically in PennyLane by passing the number of electrons and number of qubits to the [`hf_state()`](https://pennylane.readthedocs.io/en/stable/code/api/pennylane_qchem.qchem.hf_state.html?highlight=hf_state#pennylane_qchem.qchem.hf_state) function."
   ]
  },
  {
   "cell_type": "code",
   "execution_count": null,
   "metadata": {},
   "outputs": [],
   "source": [
    "electrons = 2\n",
    "hf = qml.qchem.hf_state(electrons, qubits)\n",
    "print(hf)"
   ]
  },
  {
   "cell_type": "markdown",
   "metadata": {},
   "source": [
    "We make a function to prepare this state using the `BasisState` template:"
   ]
  },
  {
   "cell_type": "code",
   "execution_count": null,
   "metadata": {},
   "outputs": [],
   "source": [
    "def initialize_state():\n",
    "    qml.BasisState(hf, wires=[0, 1, 2, 3])"
   ]
  },
  {
   "cell_type": "markdown",
   "metadata": {},
   "source": [
    "### Choosing a variational circuit architecture "
   ]
  },
  {
   "cell_type": "markdown",
   "metadata": {},
   "source": [
    "The ground state of the hydrogen molecule has the following form:\n",
    "\n",
    "\\begin{equation}\n",
    "|\\Psi(\\theta)\\rangle = \\cos(\\theta/2) |1100\\rangle - \\sin(\\theta/2) |0011\\rangle\n",
    "\\end{equation}"
   ]
  },
  {
   "cell_type": "markdown",
   "metadata": {},
   "source": [
    "This is called a *double excitation* as it involves two of the electrons to be kicked to higher orbitals. In PennyLane, [`SingleExcitation`](https://pennylane.readthedocs.io/en/stable/code/api/pennylane.SingleExcitation.html) and [`DoubleExcitation`](https://pennylane.readthedocs.io/en/stable/code/api/pennylane.DoubleExcitation.html) operators are available."
   ]
  },
  {
   "cell_type": "code",
   "execution_count": null,
   "metadata": {},
   "outputs": [],
   "source": [
    "def variational_circuit(theta):\n",
    "    qml.DoubleExcitation(theta, wires=[0, 1, 2, 3])"
   ]
  },
  {
   "cell_type": "markdown",
   "metadata": {},
   "source": [
    "### Putting things together"
   ]
  },
  {
   "cell_type": "code",
   "execution_count": null,
   "metadata": {},
   "outputs": [],
   "source": [
    "def vqe_circuit(theta, wires):\n",
    "    initialize_state()\n",
    "    variational_circuit(theta)"
   ]
  },
  {
   "cell_type": "markdown",
   "metadata": {},
   "source": [
    "### Cost function"
   ]
  },
  {
   "cell_type": "markdown",
   "metadata": {},
   "source": [
    "Now we need to optimize this circuit to find $\\theta$ that leads to the lowest energy. We need a cost function and an optimizer."
   ]
  },
  {
   "cell_type": "code",
   "execution_count": null,
   "metadata": {},
   "outputs": [],
   "source": [
    "cost = qml.ExpvalCost(vqe_circuit, H, dev)\n",
    "\n",
    "opt = qml.GradientDescentOptimizer(stepsize=0.4)\n",
    "\n",
    "theta = np.array(0.0)"
   ]
  },
  {
   "cell_type": "code",
   "execution_count": null,
   "metadata": {},
   "outputs": [],
   "source": [
    "energy_record = [cost(theta)] \n",
    "theta_record = [theta]\n",
    "\n",
    "import time\n",
    " \n",
    "for n in range(20):\n",
    "    t1 = time.time()\n",
    "    theta, prev_energy = opt.step_and_cost(cost, theta)\n",
    "    t2 = time.time()\n",
    "    energy = cost(theta)\n",
    "    \n",
    "    energy_record.append(energy)\n",
    "    theta_record.append(theta)\n",
    "    \n",
    "    print(f\"n = {n},  E = {energy:.8f} H, t = {(t2-t1):.3f} S\")\n",
    "    \n",
    "    if np.abs(energy - prev_energy) <= 1e-6:\n",
    "        break"
   ]
  },
  {
   "cell_type": "code",
   "execution_count": null,
   "metadata": {},
   "outputs": [],
   "source": [
    "import matplotlib.pyplot as plt"
   ]
  },
  {
   "cell_type": "code",
   "execution_count": null,
   "metadata": {},
   "outputs": [],
   "source": [
    "plt.scatter(range(len(theta_record)), theta_record)"
   ]
  },
  {
   "cell_type": "code",
   "execution_count": null,
   "metadata": {},
   "outputs": [],
   "source": [
    "plt.scatter(range(len(energy_record)), energy_record)"
   ]
  },
  {
   "cell_type": "markdown",
   "metadata": {},
   "source": [
    "What does the ground state look like?"
   ]
  },
  {
   "cell_type": "code",
   "execution_count": null,
   "metadata": {},
   "outputs": [],
   "source": [
    "@qml.qnode(dev)\n",
    "def vqe_circuit(theta):\n",
    "    initialize_state()\n",
    "    variational_circuit(theta)\n",
    "    return qml.state()"
   ]
  },
  {
   "cell_type": "code",
   "execution_count": null,
   "metadata": {},
   "outputs": [],
   "source": [
    "theta"
   ]
  },
  {
   "cell_type": "code",
   "execution_count": null,
   "metadata": {},
   "outputs": [],
   "source": [
    "vqe_circuit(theta)"
   ]
  },
  {
   "cell_type": "markdown",
   "metadata": {},
   "source": [
    "The ground state of $H_2$ is:\n",
    "\n",
    " \\begin{equation}\n",
    "|\\Psi(\\theta)\\rangle = 0.99455052 |1100\\rangle - 0.10425572 |0011\\rangle\n",
    "\\end{equation}"
   ]
  },
  {
   "cell_type": "markdown",
   "metadata": {},
   "source": [
    "## Shiny new sparse Hamiltonians!"
   ]
  },
  {
   "cell_type": "markdown",
   "metadata": {},
   "source": [
    "The Hamiltonian for $H_2$ is quite small. What happens with larger systems? We can greatly speed up calculation using a new feature of PennyLane: sparse Hamiltonians."
   ]
  },
  {
   "cell_type": "code",
   "execution_count": null,
   "metadata": {},
   "outputs": [],
   "source": [
    "# H3+\n",
    "\n",
    "basis_set = 'sto-3g'\n",
    "\n",
    "electrons = 2\n",
    "charge = 1\n",
    "multiplicity = 1\n",
    "\n",
    "active_electrons=2\n",
    "active_orbitals=3\n",
    "\n",
    "symbols = [\"H\", \"H\", \"H\"]\n",
    "x = np.array([0.0057264744,   0.0235552275,   0.0000000000,\n",
    "              0.5224560433,   0.8628483229,  -0.0000000000,\n",
    "              0.9909174822,  -0.0043035504,   0.0000000000]) / 0.529177210903"
   ]
  },
  {
   "cell_type": "code",
   "execution_count": null,
   "metadata": {},
   "outputs": [],
   "source": [
    "H , qubits = qml.qchem.molecular_hamiltonian(\n",
    "    symbols, \n",
    "    x, \n",
    "    charge=charge,\n",
    "    mult=multiplicity,\n",
    "    basis=basis_set,\n",
    "    package='pyscf',\n",
    "    active_electrons=active_electrons,\n",
    "    active_orbitals=active_orbitals,\n",
    "    mapping='jordan_wigner')\n"
   ]
  },
  {
   "cell_type": "code",
   "execution_count": null,
   "metadata": {},
   "outputs": [],
   "source": [
    "len(H.terms[0])"
   ]
  },
  {
   "cell_type": "markdown",
   "metadata": {},
   "source": [
    "### Constructing the variational circuit"
   ]
  },
  {
   "cell_type": "markdown",
   "metadata": {},
   "source": [
    "Let's use the Hartree-Fock state again as the starting state."
   ]
  },
  {
   "cell_type": "code",
   "execution_count": null,
   "metadata": {},
   "outputs": [],
   "source": [
    "hf = qml.qchem.hf_state(active_electrons, active_orbitals * 2)\n",
    "hf"
   ]
  },
  {
   "cell_type": "code",
   "execution_count": null,
   "metadata": {},
   "outputs": [],
   "source": [
    "def initialize_state():\n",
    "    qml.BasisState(hf, wires=range(active_orbitals*2))"
   ]
  },
  {
   "cell_type": "markdown",
   "metadata": {},
   "source": [
    "To construct the variational circuit, we choose the most general set of operations: all the single and double excitations.\n",
    "\n",
    "Single excitations send\n",
    "\n",
    "\\begin{eqnarray}\n",
    "|01\\rangle &\\rightarrow& \\cos(\\phi/2)|01\\rangle + \\sin(\\phi/2)|10\\rangle\\\\\n",
    "|10\\rangle &\\rightarrow& \\cos(\\phi/2)|10\\rangle - \\sin(\\phi/2) |01\\rangle\n",
    "\\end{eqnarray}\n",
    "\n",
    "We saw double excitations earlier; they send\n",
    "\n",
    "\\begin{eqnarray}\n",
    "|0011\\rangle &\\rightarrow& \\cos(\\phi/2) |0011\\rangle - \\sin(\\phi/2) |1100\\rangle\\\\\n",
    "|1100\\rangle &\\rightarrow& \\cos(\\phi/2) |1100\\rangle + \\sin(\\phi/2) |0011\\rangle \n",
    "\\end{eqnarray}"
   ]
  },
  {
   "cell_type": "markdown",
   "metadata": {},
   "source": [
    "With 8 electrons and 12 qubits, how can we implement all possible excitations? PennyLane has a built-in function for this as well: [`excitations()`](https://pennylane.readthedocs.io/en/stable/code/api/pennylane_qchem.qchem.excitations.html)."
   ]
  },
  {
   "cell_type": "code",
   "execution_count": null,
   "metadata": {},
   "outputs": [],
   "source": [
    "singles, doubles = qchem.excitations(active_electrons, active_orbitals * 2)"
   ]
  },
  {
   "cell_type": "code",
   "execution_count": null,
   "metadata": {},
   "outputs": [],
   "source": [
    "singles"
   ]
  },
  {
   "cell_type": "code",
   "execution_count": null,
   "metadata": {},
   "outputs": [],
   "source": [
    "doubles[:5]"
   ]
  },
  {
   "cell_type": "markdown",
   "metadata": {},
   "source": [
    "Each excitation needs its own parameter. We can make our circuit ansatz now:"
   ]
  },
  {
   "cell_type": "code",
   "execution_count": null,
   "metadata": {},
   "outputs": [],
   "source": [
    "init_params = np.array([0.0] * (len(singles) + len(doubles)))\n",
    "\n",
    "def variational_circuit(params):\n",
    "    # All double excitations\n",
    "    for i, d_wires in enumerate(doubles):\n",
    "        qml.DoubleExcitation(params[i], wires=d_wires)\n",
    "    \n",
    "    # All single excitations\n",
    "    for j, s_wires in enumerate(singles):\n",
    "        qml.SingleExcitation(params[i+j+1], wires=s_wires)"
   ]
  },
  {
   "cell_type": "markdown",
   "metadata": {},
   "source": [
    "Put these together to make the VQE circuit, and define a cost function. We do this in a special way using a sparse Hamiltonian:"
   ]
  },
  {
   "cell_type": "code",
   "execution_count": null,
   "metadata": {},
   "outputs": [],
   "source": [
    "H_sparse = qml.utils.sparse_hamiltonian(H)"
   ]
  },
  {
   "cell_type": "code",
   "execution_count": null,
   "metadata": {},
   "outputs": [],
   "source": [
    "H_sparse"
   ]
  },
  {
   "cell_type": "code",
   "execution_count": null,
   "metadata": {},
   "outputs": [],
   "source": [
    "def vqe_circuit(params):\n",
    "    initialize_state()\n",
    "    variational_circuit(params)\n",
    "    return qml.expval(qml.SparseHamiltonian(H_sparse, wires=range(qubits)))"
   ]
  },
  {
   "cell_type": "code",
   "execution_count": null,
   "metadata": {},
   "outputs": [],
   "source": [
    "dev = qml.device(\"default.qubit\", wires=active_orbitals*2)\n",
    "\n",
    "qnode = qml.QNode(vqe_circuit, dev, diff_method='parameter-shift')"
   ]
  },
  {
   "cell_type": "code",
   "execution_count": null,
   "metadata": {},
   "outputs": [],
   "source": [
    "params = init_params.copy()\n",
    "\n",
    "opt = qml.GradientDescentOptimizer(stepsize=0.5)\n",
    "\n",
    "def cost(params):\n",
    "    return qnode(params)"
   ]
  },
  {
   "cell_type": "code",
   "execution_count": null,
   "metadata": {},
   "outputs": [],
   "source": [
    "for n in range(20):\n",
    "    t1 = time.time()\n",
    "    params, energy = opt.step_and_cost(cost, params)\n",
    "    t2 = time.time()\n",
    "    print(f\"n = {n},  E = {energy:.8f} H, t = {(t2-t1):.3f} S\") "
   ]
  },
  {
   "cell_type": "markdown",
   "metadata": {},
   "source": [
    "## More things to try"
   ]
  },
  {
   "cell_type": "markdown",
   "metadata": {},
   "source": [
    " - run VQE for larger molecules\n",
    " - explore different variational circuit structures and initial states\n",
    " - try implementing extensions to VQE to find excited states\n",
    " - try a different optimization technique, such as the [quantum natural gradient](https://pennylane.ai/qml/demos/tutorial_vqe_qng.html)\n",
    " \n",
    "More examples available in the [PennyLane demos](https://pennylane.ai/qml/demonstrations.html) (filter by \"quantum chemistry\" in the sidebar)."
   ]
  }
 ],
 "metadata": {
  "kernelspec": {
   "display_name": "Python 3",
   "language": "python",
   "name": "python3"
  },
  "language_info": {
   "codemirror_mode": {
    "name": "ipython",
    "version": 3
   },
   "file_extension": ".py",
   "mimetype": "text/x-python",
   "name": "python",
   "nbconvert_exporter": "python",
   "pygments_lexer": "ipython3",
   "version": "3.7.7"
  }
 },
 "nbformat": 4,
 "nbformat_minor": 4
}

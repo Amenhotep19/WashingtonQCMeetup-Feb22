{
 "cells": [
  {
   "cell_type": "markdown",
   "metadata": {},
   "source": [
    "# Variational quantum classifier"
   ]
  },
  {
   "cell_type": "markdown",
   "metadata": {},
   "source": [
    "<div class=\"alert alert-warning\">\n",
    "    Got feedback? Share your thoughts by filling out our <a href=\"https://forms.gle/z6ochGoC6grMh65E9\">survey</a>.\n",
    "</div>"
   ]
  },
  {
   "cell_type": "markdown",
   "metadata": {},
   "source": [
    "The variational quantum classifier (VQC) is a type of supervised quantum machine learning algorithm. Given a set of labeled training data consisting of features $X$ and associated labels $y$, the idea is to design a quantum model \n",
    "that learns to output an accurate guess for the label, based on a given set of input features.\n",
    "\n",
    "<img src=\"fig/vqc.png\" style=\"width: 600px\">"
   ]
  },
  {
   "cell_type": "markdown",
   "metadata": {},
   "source": [
    "There is a lot of flexibility and choice involved in constructing a classifier:\n",
    "\n",
    " 1. how does the data get embedded?\n",
    " 2. what variational circuit architecture should we use?\n",
    " 3. how should we process the output measurements to determine the label?"
   ]
  },
  {
   "cell_type": "markdown",
   "metadata": {},
   "source": [
    "## Data set analysis"
   ]
  },
  {
   "cell_type": "code",
   "execution_count": null,
   "metadata": {},
   "outputs": [],
   "source": [
    "from parse_vqc_data import parse_input\n",
    "import matplotlib.pyplot as plt\n",
    "\n",
    "X_train, Y_train, X_test, Y_test = parse_input()"
   ]
  },
  {
   "cell_type": "code",
   "execution_count": null,
   "metadata": {},
   "outputs": [],
   "source": [
    "X_train[:5]"
   ]
  },
  {
   "cell_type": "code",
   "execution_count": null,
   "metadata": {},
   "outputs": [],
   "source": [
    "Y_train[:10]"
   ]
  },
  {
   "cell_type": "code",
   "execution_count": null,
   "metadata": {},
   "outputs": [],
   "source": [
    "plt.scatter(X_train[:,0], X_train[:,1], c=Y_train)"
   ]
  },
  {
   "cell_type": "code",
   "execution_count": null,
   "metadata": {},
   "outputs": [],
   "source": [
    "plt.scatter(X_train[:,0], X_train[:,2], c=Y_train)"
   ]
  },
  {
   "cell_type": "markdown",
   "metadata": {},
   "source": [
    "## 0. Initial decisions based on the data"
   ]
  },
  {
   "cell_type": "markdown",
   "metadata": {},
   "source": [
    " - The data is 3-dimensional; let's use 3 qubits\n",
    " - We need to design parts of a quantum circuit to input data, and a section that uses trainable parameters\n",
    " - The output of the quantum circuit needs to turned into a meaningful cost.\n",
    " \n",
    "That means our circuit/QNode is going to have the following signature/return type\n",
    "\n",
    "```python\n",
    "def circuit(x, params):\n",
    "    ...\n",
    "    return qml.expval(...)\n",
    "```"
   ]
  },
  {
   "cell_type": "code",
   "execution_count": null,
   "metadata": {},
   "outputs": [],
   "source": [
    "import pennylane as qml\n",
    "from pennylane import numpy as np\n",
    "\n",
    "np.random.seed(0)\n",
    "\n",
    "dev = qml.device('default.qubit', wires=3)"
   ]
  },
  {
   "cell_type": "markdown",
   "metadata": {},
   "source": [
    "## 1. How does the data get embedded?"
   ]
  },
  {
   "cell_type": "markdown",
   "metadata": {},
   "source": [
    "Straightforward method: rotate each qubit by a certain amount based on the data."
   ]
  },
  {
   "cell_type": "code",
   "execution_count": null,
   "metadata": {},
   "outputs": [],
   "source": [
    "def load_data(x):\n",
    "    qml.RX(x[0], wires=0)\n",
    "    qml.RX(x[1], wires=1)\n",
    "    qml.RX(x[2], wires=2)"
   ]
  },
  {
   "cell_type": "markdown",
   "metadata": {},
   "source": [
    "PennyLane offers many built-in [templates](https://pennylane.readthedocs.io/en/stable/introduction/templates.html#embedding-templates) for embedding. This particular one is actually the `AngleEmbeddingTemplate` so we'll use that instead for brevity."
   ]
  },
  {
   "cell_type": "code",
   "execution_count": null,
   "metadata": {},
   "outputs": [],
   "source": [
    "def load_data(x):\n",
    "    qml.templates.AngleEmbedding(x, wires=[0, 1, 2])"
   ]
  },
  {
   "cell_type": "markdown",
   "metadata": {},
   "source": [
    "## 2. What variational circuit architecture should we use?"
   ]
  },
  {
   "cell_type": "markdown",
   "metadata": {},
   "source": [
    "Takes a bit of intuition and trial and error to determine works well for a given type of data. In general, the structures are repeated layers of rotations followed by a layer of entangling gates to scramble things up. PennyLane has many [layer templates](https://pennylane.readthedocs.io/en/stable/introduction/templates.html#layer-templates) to choose from for this. We will try the basic entangler layers:\n",
    "\n",
    "<img src=\"fig/basic_entangler.png\" width=400>"
   ]
  },
  {
   "cell_type": "code",
   "execution_count": null,
   "metadata": {},
   "outputs": [],
   "source": [
    "def variational_architecture(params):\n",
    "    qml.templates.BasicEntanglerLayers(params, wires=[0, 1, 2])"
   ]
  },
  {
   "cell_type": "markdown",
   "metadata": {},
   "source": [
    "The shape of the input parameters inform the template how large a circuit to make."
   ]
  },
  {
   "cell_type": "markdown",
   "metadata": {},
   "source": [
    "Let's take a look at a sample version of our circuit:"
   ]
  },
  {
   "cell_type": "code",
   "execution_count": null,
   "metadata": {},
   "outputs": [],
   "source": [
    "@qml.qnode(dev)\n",
    "def circuit(x, params):\n",
    "    load_data(x)\n",
    "    variational_architecture(params)\n",
    "    return qml.expval(qml.PauliZ(wires=0)) # Placeholder for now"
   ]
  },
  {
   "cell_type": "code",
   "execution_count": null,
   "metadata": {},
   "outputs": [],
   "source": [
    "params = np.random.normal(size=(2, 3))"
   ]
  },
  {
   "cell_type": "code",
   "execution_count": null,
   "metadata": {},
   "outputs": [],
   "source": [
    "circuit(X_train[0], params)"
   ]
  },
  {
   "cell_type": "code",
   "execution_count": null,
   "metadata": {},
   "outputs": [],
   "source": [
    "print(qml.draw(circuit)(X_train[0], params))"
   ]
  },
  {
   "cell_type": "markdown",
   "metadata": {},
   "source": [
    "## 3. Mapping circuit outputs to labels"
   ]
  },
  {
   "cell_type": "markdown",
   "metadata": {},
   "source": [
    "We can see from our data that there are 3 distinct labels: -1, 0, and 1.\n",
    "\n",
    "Expectation values (the outputs of measurements) have value between [-1, 1]. Let's quantify the distance between the output and the true label and use this as the cost (we'll use a least-squares cost here)."
   ]
  },
  {
   "cell_type": "code",
   "execution_count": null,
   "metadata": {},
   "outputs": [],
   "source": [
    "def loss(Y_pred, Y_true):\n",
    "    return np.sum((Y_pred - Y_true)**2) / len(Y_pred)\n",
    "\n",
    "def cost(params, X, Y):\n",
    "    predictions = [circuit(x, params) for x in X]\n",
    "    return loss(np.array(predictions), Y)\n",
    "\n",
    "def predict_label(output):\n",
    "    if output > 0.33:\n",
    "        return 1\n",
    "    elif output < -0.33:\n",
    "        return -1\n",
    "    return 0\n",
    "        \n",
    "def accuracy(Y_pred, Y_true):\n",
    "    predictions = []\n",
    "    \n",
    "    for output in Y_pred:\n",
    "        predictions.append(predict_label(output))\n",
    "    \n",
    "    return sum(predictions == Y_true) / len(predictions)"
   ]
  },
  {
   "cell_type": "markdown",
   "metadata": {},
   "source": [
    "## Running the VQC"
   ]
  },
  {
   "cell_type": "code",
   "execution_count": null,
   "metadata": {},
   "outputs": [],
   "source": [
    "n_layers = 3\n",
    "init_params = np.random.uniform(size=(n_layers, 3))\n",
    "\n",
    "opt = qml.optimize.GradientDescentOptimizer(stepsize=0.1)\n",
    "batch_size = 5\n",
    "params = init_params.copy()\n",
    "num_its = 50\n",
    "\n",
    "for it in range(num_its):\n",
    "    batch_index = np.random.randint(0, len(X_train), (batch_size,))\n",
    "    X_batch = X_train[batch_index]\n",
    "    Y_batch = Y_train[batch_index]\n",
    "    params = opt.step(lambda v: cost(v, X_batch, Y_batch), params)\n",
    "\n",
    "    if it % 5 == 0:\n",
    "        Y_pred = [circuit(x, params) for x in X_train]\n",
    "        acc = accuracy(Y_pred, Y_train)\n",
    "\n",
    "        print(f\"Step {it} training acc = {acc}\")"
   ]
  },
  {
   "cell_type": "code",
   "execution_count": null,
   "metadata": {},
   "outputs": [],
   "source": [
    "predictions = [predict_label(circuit(x, params)) for x in X_test]\n",
    "\n",
    "accuracy(predictions, Y_test)"
   ]
  },
  {
   "cell_type": "code",
   "execution_count": null,
   "metadata": {},
   "outputs": [],
   "source": [
    "plt.scatter(X_test[:,0], X_test[:,2], c=predictions)"
   ]
  },
  {
   "cell_type": "code",
   "execution_count": null,
   "metadata": {},
   "outputs": [],
   "source": [
    "plt.scatter(X_test[:,0], X_test[:,1], c=predictions)"
   ]
  },
  {
   "cell_type": "markdown",
   "metadata": {},
   "source": [
    "## Things for you to try:"
   ]
  },
  {
   "cell_type": "markdown",
   "metadata": {},
   "source": [
    " - a different data set\n",
    " - different methods to encode the data\n",
    " - different layer templates\n",
    " - different number of parameters in the layer templates\n",
    " - a different type of measurement or different observable"
   ]
  }
 ],
 "metadata": {
  "kernelspec": {
   "display_name": "PennyLane",
   "language": "python",
   "name": "pennylane"
  },
  "language_info": {
   "codemirror_mode": {
    "name": "ipython",
    "version": 3
   },
   "file_extension": ".py",
   "mimetype": "text/x-python",
   "name": "python",
   "nbconvert_exporter": "python",
   "pygments_lexer": "ipython3",
   "version": "3.8.12"
  }
 },
 "nbformat": 4,
 "nbformat_minor": 4
}

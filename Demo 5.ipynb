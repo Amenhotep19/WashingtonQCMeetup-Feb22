{
 "cells": [
  {
   "cell_type": "markdown",
   "metadata": {},
   "source": [
    "# The quantum approximate optimization algorithm (QAOA)"
   ]
  },
  {
   "cell_type": "markdown",
   "metadata": {},
   "source": [
    "<div class=\"alert alert-warning\">\n",
    "    Got feedback? Share your thoughts by filling out our <a href=\"https://forms.gle/z6ochGoC6grMh65E9\">survey</a>.\n",
    "</div>"
   ]
  },
  {
   "cell_type": "markdown",
   "metadata": {},
   "source": [
    "The quantum approximate optimization algorithm is a general method for tackling optimization problems using quantum computers. It closely resembles the [adiabatic quantum algorithm](https://en.wikipedia.org/wiki/Adiabatic_quantum_computation). The first step is to encode the problem as finding the ground state of an appropriate _cost Hamiltonian_ $H_C$ that is diagonal in the computational basis. Starting from an easy-to-prepare ground state of an initial Hamiltonian $H_M$, the algorithm evolves the initial state under the time-dependent Hamiltonian\n",
    "\n",
    "$$\n",
    "H(t) = (1-t/T)H_M + (t/T)H_C\n",
    "$$\n",
    "\n",
    "for some choice of $T$. If $T$ is chosen to be large enough such that the Hamiltonian changes very slowly compared to the energy scale of the system, the ground state of the initial Hamiltonian will move adiabatically to the ground state of the time-evolved Hamiltonian, ending in the ground state of the cost Hamiltonian and therefore in a solution to the problem. \n",
    "\n",
    "Quantum annealing is a version of this algorithm where the Hamiltonian changes rapidly in time, so there is no guarantee that the system will remain in a true ground state. The quantum approximate optimization algorithm (QAOA) is a take on this method where time evolution is approximated using a Trotter-Suzuki decomposition. Instead of evolving smoothly and slowly, the time of evolution is optimized at each step. \n",
    "\n",
    "<img src=\"fig/optimization_algorithms.png\" style=\"width: 700px;\"/>"
   ]
  },
  {
   "cell_type": "markdown",
   "metadata": {},
   "source": [
    "Given a Hamiltonian $H$ and a time parameter $t$, we define the time evolution operator as:\n",
    "\n",
    "$$\n",
    "U(H, \\ t) \\ = \\ e^{-i H t / \\hbar}.\n",
    "$$"
   ]
  },
  {
   "cell_type": "markdown",
   "metadata": {},
   "source": [
    "In general, implementing a quantum circuit that exactly exponentiates a Hamiltonian with many non-commuting terms is very challenging."
   ]
  },
  {
   "cell_type": "markdown",
   "metadata": {},
   "source": [
    "Instead, we *Trotterize* and divide the entire time of evolution into $N$ intervals:\n",
    "\n",
    "$$\n",
    "U = \\prod_{k=0}^Ne^{-i (1-k/N) H_M}e^{-i (k/N) H_C}.\n",
    "$$\n",
    "If $N$ is very large, this can be a good approximation which leads to a performant quantum algorithm. What QAOA does is to consider also the case where $N$ is more moderately sized and instead of applying time evolution for pre-determined parameters, we incorporate free parameters into each term of the expansion, leading to a parametrized sequence of gates\n",
    "\n",
    "$$\n",
    "U(\\gamma, \\alpha) = e^{-i \\alpha_1 H_M}\n",
    "             e^{-i \\gamma_1 H_C} \\ ... \\ e^{-i \\alpha_N H_M} e^{-i \\gamma_N H_C}.\n",
    "$$\n",
    "\n",
    "<img src=\"fig/qaoa_circuit.png\" width=1000>\n",
    "\n",
    "\n",
    "\n",
    "Once the optimization problem has been encoded into a diagonal cost Hamiltonian $H_C$, QAOA simply chooses an adequate *mixer Hamiltonian* $H_M$ and a number of layers $N$ and optimizes the parameters $\\gamma, \\alpha$ with respect to the cost function \n",
    "\n",
    "$$\n",
    "\\langle \\psi| U(\\gamma, \\alpha)^\\dagger H_C U(\\gamma, \\alpha)|\\psi\\rangle,\n",
    "$$\n",
    "\n",
    "where $|\\psi\\rangle$ is an initial state of choice.\n"
   ]
  },
  {
   "cell_type": "markdown",
   "metadata": {},
   "source": [
    "## The PennLane QAOA module\n",
    "\n",
    "PennyLane's [QAOA module](https://pennylane.readthedocs.io/en/stable/code/qml_qaoa.html) offers functionality to help in the construction of these Hamiltonians and circuits, to save you having to code everything up from scratch. \n",
    "It allows you to construct the cost Hamiltonians for many graph optimization problems directly from an input graph. It also provides recommended mixer Hamiltonians."
   ]
  },
  {
   "cell_type": "markdown",
   "metadata": {},
   "source": [
    "### The problem"
   ]
  },
  {
   "cell_type": "markdown",
   "metadata": {},
   "source": [
    "Suppose you've successfully recast your favourite optimization problem into a `MaxIndependentSet` problem.\n",
    "\n",
    "<img src=\"https://mathworld.wolfram.com/images/eps-gif/MaximumIndependentSet_1000.gif\">\n",
    "(Image source: Wolfram MathWorld)"
   ]
  },
  {
   "cell_type": "markdown",
   "metadata": {},
   "source": [
    "The solution to this problem is encoded into bit strings. Each bit corresponds to a node, and the value is 1 if the node is in the max independent set, and 0 otherwise."
   ]
  },
  {
   "cell_type": "code",
   "execution_count": null,
   "metadata": {},
   "outputs": [],
   "source": [
    "import networkx as nx\n",
    "from matplotlib import pyplot as plt\n",
    "\n",
    "num_nodes = 6\n",
    "\n",
    "G = nx.wheel_graph(num_nodes)"
   ]
  },
  {
   "cell_type": "code",
   "execution_count": null,
   "metadata": {},
   "outputs": [],
   "source": [
    "nx.draw(G, with_labels=True, node_color='pink')"
   ]
  },
  {
   "cell_type": "markdown",
   "metadata": {},
   "source": [
    "### Cost and mixer Hamiltonians"
   ]
  },
  {
   "cell_type": "markdown",
   "metadata": {},
   "source": [
    "We can use built-in functionality in PennyLane to construct the cost Hamiltonian for the `MaxIndependentSet` problem defined on this graph:"
   ]
  },
  {
   "cell_type": "code",
   "execution_count": null,
   "metadata": {},
   "outputs": [],
   "source": [
    "import pennylane as qml\n",
    "from pennylane import numpy as np\n",
    "from pennylane import qaoa"
   ]
  },
  {
   "cell_type": "code",
   "execution_count": null,
   "metadata": {},
   "outputs": [],
   "source": [
    "h_cost, h_mixer = qaoa.max_independent_set(G)\n",
    "print(f'H_C = {h_cost}\\n')\n",
    "print(f'H_M = {h_mixer}')"
   ]
  },
  {
   "cell_type": "markdown",
   "metadata": {},
   "source": [
    "### Building the QAOA circuit"
   ]
  },
  {
   "cell_type": "markdown",
   "metadata": {},
   "source": [
    "The QAOA module gives you simple access to building the unitaries $e^{-i \\gamma H_C}$ and $e^{-i \\alpha H_M}$ using respectively the [`cost_layer()`](https://pennylane.readthedocs.io/en/stable/code/api/pennylane.qaoa.layers.cost_layer.html) and [`mixer_layer()`](https://pennylane.readthedocs.io/en/stable/code/api/pennylane.qaoa.layers.mixer_layer.html) functions. For example, these can be used to create a circuit applying the QAOA unitary for $N=1$:"
   ]
  },
  {
   "cell_type": "code",
   "execution_count": null,
   "metadata": {},
   "outputs": [],
   "source": [
    "def qaoa_layer(gamma, alpha):\n",
    "    qaoa.cost_layer(gamma, h_cost)\n",
    "    qaoa.mixer_layer(alpha, h_mixer)"
   ]
  },
  {
   "cell_type": "markdown",
   "metadata": {},
   "source": [
    "To repeatedly apply this circuit, which corresponds to the case $N>1$, we can employ the `qml.layer()` function. In this example, we choose an initial state corresponding to a uniform superposition over all computational basis states and use a total of four layers, which can be optimized using the `ExpvalCost()` function:"
   ]
  },
  {
   "cell_type": "code",
   "execution_count": null,
   "metadata": {},
   "outputs": [],
   "source": [
    "depth = 4\n",
    "\n",
    "dev = qml.device('default.qubit', wires=range(num_nodes))\n",
    "\n",
    "def circuit(params, **kwargs):\n",
    "    qml.layer(qaoa_layer, depth, params[0], params[1])\n",
    "\n",
    "cost = qml.ExpvalCost(circuit, h_cost, dev)   "
   ]
  },
  {
   "cell_type": "code",
   "execution_count": null,
   "metadata": {},
   "outputs": [],
   "source": [
    "params = 0.5 * np.ones((2, 4))\n",
    "\n",
    "num_iterations = 20\n",
    "\n",
    "opt = qml.GradientDescentOptimizer(stepsize=0.4)"
   ]
  },
  {
   "cell_type": "code",
   "execution_count": null,
   "metadata": {},
   "outputs": [],
   "source": [
    "for _ in range(num_iterations):\n",
    "    params = opt.step(cost, params)"
   ]
  },
  {
   "cell_type": "markdown",
   "metadata": {},
   "source": [
    "Once the circuit parameters have been optimized, the output state will be such that the probability of observing low-energy states is high, ideally having the ground state correspond to the most likely output state. In the algorithm, we measure the output state in the computational basis and record each outcome. The final output of the algorithm is the sampled state with the lowest energy. For the final exercise, we work with the graph defined below."
   ]
  },
  {
   "cell_type": "code",
   "execution_count": null,
   "metadata": {},
   "outputs": [],
   "source": [
    "@qml.qnode(dev)\n",
    "def probability(p):\n",
    "    circuit(p)\n",
    "    return qml.probs(wires=dev.wires)\n",
    "\n",
    "probs = probability(params)\n",
    "plt.bar(range(2 ** num_nodes), probs)"
   ]
  },
  {
   "cell_type": "code",
   "execution_count": null,
   "metadata": {},
   "outputs": [],
   "source": [
    "np.argmax(probs)"
   ]
  },
  {
   "cell_type": "code",
   "execution_count": null,
   "metadata": {},
   "outputs": [],
   "source": [
    "np.binary_repr(20, 6)"
   ]
  },
  {
   "cell_type": "code",
   "execution_count": null,
   "metadata": {},
   "outputs": [],
   "source": [
    "node_colour_vals = [int(x) for x in list(np.binary_repr(20, 6))]\n",
    "node_colours = ['pink' if x == 0 else 'lightblue' for x in node_colour_vals]"
   ]
  },
  {
   "cell_type": "code",
   "execution_count": null,
   "metadata": {},
   "outputs": [],
   "source": [
    "nx.draw(G, with_labels=True, node_color=node_colours)"
   ]
  },
  {
   "cell_type": "markdown",
   "metadata": {},
   "source": [
    "## More things to try "
   ]
  },
  {
   "cell_type": "markdown",
   "metadata": {},
   "source": [
    " - learn about QAOA in more detail with our [introductory demo](https://pennylane.ai/qml/demos/tutorial_qaoa_intro.html)\n",
    " - explore how the number of layers affects the results\n",
    " - try a different underlying graph problem (full list available [here](https://pennylane.readthedocs.io/en/stable/code/qml_qaoa.html#id1))"
   ]
  }
 ],
 "metadata": {
  "kernelspec": {
   "display_name": "PennyLane",
   "language": "python",
   "name": "pennylane"
  },
  "language_info": {
   "codemirror_mode": {
    "name": "ipython",
    "version": 3
   },
   "file_extension": ".py",
   "mimetype": "text/x-python",
   "name": "python",
   "nbconvert_exporter": "python",
   "pygments_lexer": "ipython3",
   "version": "3.8.12"
  }
 },
 "nbformat": 4,
 "nbformat_minor": 4
}
